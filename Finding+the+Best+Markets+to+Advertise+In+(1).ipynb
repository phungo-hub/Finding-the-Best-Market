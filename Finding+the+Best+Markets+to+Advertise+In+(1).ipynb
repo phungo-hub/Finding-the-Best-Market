{
 "cells": [
  {
   "cell_type": "markdown",
   "metadata": {
    "collapsed": true
   },
   "source": [
    "Let's assume that we're working for an an e-learning company that offers courses on programming. Most of our courses are on web and mobile development, but we also cover many other domains, like data science, game development, etc. We want to promote our product and we'd like to invest some money in advertisement. Our goal in this project is to find out the two best markets to advertise our product in."
   ]
  },
  {
   "cell_type": "markdown",
   "metadata": {},
   "source": [
    "# Understanding the Data"
   ]
  },
  {
   "cell_type": "code",
   "execution_count": 1,
   "metadata": {
    "collapsed": false
   },
   "outputs": [
    {
     "name": "stdout",
     "output_type": "stream",
     "text": [
      "(18175, 136)\n",
      "  Age AttendedBootcamp BootcampFinish BootcampLoanYesNo BootcampName  \\\n",
      "0  27                0            NaN               NaN          NaN   \n",
      "1  34                0            NaN               NaN          NaN   \n",
      "2  21                0            NaN               NaN          NaN   \n",
      "3  26                0            NaN               NaN          NaN   \n",
      "4  20                0            NaN               NaN          NaN   \n",
      "\n",
      "  BootcampRecommend ChildrenNumber                 CityPopulation  \\\n",
      "0               NaN            NaN            more than 1 million   \n",
      "1               NaN            NaN              less than 100,000   \n",
      "2               NaN            NaN            more than 1 million   \n",
      "3               NaN            NaN  between 100,000 and 1 million   \n",
      "4               NaN            NaN  between 100,000 and 1 million   \n",
      "\n",
      "  CodeEventConferences CodeEventDjangoGirls         ...         YouTubeFCC  \\\n",
      "0                  NaN                  NaN         ...                NaN   \n",
      "1                  NaN                  NaN         ...                  1   \n",
      "2                  NaN                  NaN         ...                NaN   \n",
      "3                  NaN                  NaN         ...                  1   \n",
      "4                  NaN                  NaN         ...                NaN   \n",
      "\n",
      "  YouTubeFunFunFunction YouTubeGoogleDev YouTubeLearnCode YouTubeLevelUpTuts  \\\n",
      "0                   NaN              NaN              NaN                NaN   \n",
      "1                   NaN              NaN              NaN                NaN   \n",
      "2                   NaN              NaN                1                  1   \n",
      "3                     1              NaN              NaN                  1   \n",
      "4                   NaN              NaN              NaN                NaN   \n",
      "\n",
      "  YouTubeMIT YouTubeMozillaHacks YouTubeOther YouTubeSimplilearn  \\\n",
      "0        NaN                 NaN          NaN                NaN   \n",
      "1        NaN                 NaN          NaN                NaN   \n",
      "2        NaN                 NaN          NaN                NaN   \n",
      "3        NaN                 NaN          NaN                NaN   \n",
      "4        NaN                 NaN          NaN                NaN   \n",
      "\n",
      "  YouTubeTheNewBoston  \n",
      "0                 NaN  \n",
      "1                 NaN  \n",
      "2                 NaN  \n",
      "3                 NaN  \n",
      "4                 NaN  \n",
      "\n",
      "[5 rows x 136 columns]\n"
     ]
    }
   ],
   "source": [
    "import pandas as pd\n",
    "\n",
    "FCC_survey = pd.read_csv('2017-fCC-New-Coders-Survey-Data.csv',dtype='unicode')\n",
    "print(FCC_survey.shape)\n",
    "print(FCC_survey.head(5))"
   ]
  },
  {
   "cell_type": "markdown",
   "metadata": {},
   "source": [
    "To reach our goal, we could organize surveys for a couple of different markets to find out which would the best choices for advertising. This is very costly, however, and it's a good call to explore cheaper options first.\n",
    "\n",
    "We can try to search existing data that might be relevant for our purpose. One good candidate is the data from [freeCodeCamp's 2017 New Coder Survey](https://www.freecodecamp.org/news/we-asked-20-000-people-who-they-are-and-how-theyre-learning-to-code-fff5d668969/). [freeCodeCamp](https://www.freecodecamp.org/) is a free e-learning platform that offers courses on web development. Because they run [a popular Medium publication](https://www.freecodecamp.org/news/) (over 400,000 followers), their survey attracted new coders with varying interests (not only web development), which is ideal for the purpose of our analysis.\n",
    "\n",
    "The survey data is publicly available in this [GitHub repository](https://github.com/freeCodeCamp/2017-new-coder-survey)."
   ]
  },
  {
   "cell_type": "markdown",
   "metadata": {},
   "source": [
    "# Checking for Sample Representativity"
   ]
  },
  {
   "cell_type": "code",
   "execution_count": 2,
   "metadata": {
    "collapsed": false
   },
   "outputs": [
    {
     "data": {
      "text/plain": [
       "Full-Stack Web Developer                                                                                                                                                                                                           0.117706\n",
       "  Front-End Web Developer                                                                                                                                                                                                          0.064359\n",
       "  Data Scientist                                                                                                                                                                                                                   0.021739\n",
       "Back-End Web Developer                                                                                                                                                                                                             0.020309\n",
       "  Mobile Developer                                                                                                                                                                                                                 0.016733\n",
       "Game Developer                                                                                                                                                                                                                     0.016304\n",
       "Information Security                                                                                                                                                                                                               0.013158\n",
       "Full-Stack Web Developer,   Front-End Web Developer                                                                                                                                                                                0.009153\n",
       "  Front-End Web Developer, Full-Stack Web Developer                                                                                                                                                                                0.008009\n",
       "  Product Manager                                                                                                                                                                                                                  0.007866\n",
       "Data Engineer                                                                                                                                                                                                                      0.007580\n",
       "  User Experience Designer                                                                                                                                                                                                         0.007437\n",
       "  User Experience Designer,   Front-End Web Developer                                                                                                                                                                              0.006150\n",
       "  Front-End Web Developer, Back-End Web Developer, Full-Stack Web Developer                                                                                                                                                        0.005578\n",
       "Back-End Web Developer,   Front-End Web Developer, Full-Stack Web Developer                                                                                                                                                        0.005149\n",
       "Back-End Web Developer, Full-Stack Web Developer,   Front-End Web Developer                                                                                                                                                        0.005149\n",
       "  DevOps / SysAdmin                                                                                                                                                                                                                0.005149\n",
       "Full-Stack Web Developer,   Front-End Web Developer, Back-End Web Developer                                                                                                                                                        0.004434\n",
       "  Front-End Web Developer, Full-Stack Web Developer, Back-End Web Developer                                                                                                                                                        0.004291\n",
       "Full-Stack Web Developer,   Mobile Developer                                                                                                                                                                                       0.004148\n",
       "  Front-End Web Developer,   User Experience Designer                                                                                                                                                                              0.004148\n",
       "Back-End Web Developer, Full-Stack Web Developer                                                                                                                                                                                   0.003862\n",
       "Full-Stack Web Developer, Back-End Web Developer                                                                                                                                                                                   0.003719\n",
       "Back-End Web Developer,   Front-End Web Developer                                                                                                                                                                                  0.002860\n",
       "Full-Stack Web Developer, Back-End Web Developer,   Front-End Web Developer                                                                                                                                                        0.002717\n",
       "Data Engineer,   Data Scientist                                                                                                                                                                                                    0.002717\n",
       "  Front-End Web Developer,   Mobile Developer                                                                                                                                                                                      0.002574\n",
       "Full-Stack Web Developer,   Data Scientist                                                                                                                                                                                         0.002431\n",
       "  Mobile Developer, Game Developer                                                                                                                                                                                                 0.002288\n",
       "  Data Scientist, Data Engineer                                                                                                                                                                                                    0.002288\n",
       "                                                                                                                                                                                                                                     ...   \n",
       "Data Engineer,   DevOps / SysAdmin,   Data Scientist, Back-End Web Developer                                                                                                                                                       0.000143\n",
       "  Front-End Web Developer, Data Engineer,   DevOps / SysAdmin, Back-End Web Developer, Full-Stack Web Developer,   Mobile Developer,   User Experience Designer, Information Security                                              0.000143\n",
       "  Product Manager,   Data Scientist, Full-Stack Web Developer, Back-End Web Developer                                                                                                                                              0.000143\n",
       "  User Experience Designer,   Data Scientist,   DevOps / SysAdmin, Information Security, Data Engineer                                                                                                                             0.000143\n",
       "Data Engineer, Full-Stack Web Developer,   Front-End Web Developer,   Data Scientist, Information Security, Back-End Web Developer                                                                                                 0.000143\n",
       "Data Engineer, Back-End Web Developer, Game Developer                                                                                                                                                                              0.000143\n",
       "Back-End Web Developer,   Front-End Web Developer, Data Engineer, Full-Stack Web Developer,   Mobile Developer,   User Experience Designer                                                                                         0.000143\n",
       "Data Engineer,   DevOps / SysAdmin, Back-End Web Developer,   Data Scientist                                                                                                                                                       0.000143\n",
       "  Front-End Web Developer,   User Experience Designer,   Data Scientist, Full-Stack Web Developer                                                                                                                                  0.000143\n",
       "  DevOps / SysAdmin, Back-End Web Developer,   Product Manager, Information Security,   Front-End Web Developer                                                                                                                    0.000143\n",
       "  Data Scientist, Full-Stack Web Developer, Information Security,   Quality Assurance Engineer, Data Engineer, Back-End Web Developer                                                                                              0.000143\n",
       "  Front-End Web Developer,   Mobile Developer, Back-End Web Developer, Full-Stack Web Developer, Data Engineer                                                                                                                     0.000143\n",
       "  Mobile Developer, Back-End Web Developer,   Front-End Web Developer, Full-Stack Web Developer, Game Developer                                                                                                                    0.000143\n",
       "  Data Scientist, Game Developer, Full-Stack Web Developer,   Mobile Developer, Back-End Web Developer,   Front-End Web Developer,   DevOps / SysAdmin, Data Engineer,   User Experience Designer,   Quality Assurance Engineer    0.000143\n",
       "  Front-End Web Developer,   Data Scientist, Data Engineer, Full-Stack Web Developer,   DevOps / SysAdmin, Back-End Web Developer, Information Security,   User Experience Designer,   Mobile Developer, Game Developer            0.000143\n",
       "Game Developer,   Mobile Developer, Information Security,   User Experience Designer                                                                                                                                               0.000143\n",
       "  User Experience Designer, Back-End Web Developer, Data Engineer,   Data Scientist, Full-Stack Web Developer, Information Security                                                                                                0.000143\n",
       "  Mobile Developer, Information Security, Full-Stack Web Developer,   DevOps / SysAdmin                                                                                                                                            0.000143\n",
       "Game Developer,   Product Manager                                                                                                                                                                                                  0.000143\n",
       "improving in my current career as a Learning technologist                                                                                                                                                                          0.000143\n",
       "  Mobile Developer,   Front-End Web Developer, Full-Stack Web Developer, Game Developer, Back-End Web Developer                                                                                                                    0.000143\n",
       "  Quality Assurance Engineer,   Data Scientist, Full-Stack Web Developer, Back-End Web Developer,   Front-End Web Developer,   Mobile Developer, Game Developer                                                                    0.000143\n",
       "  Mobile Developer, Data Engineer,   User Experience Designer,   Front-End Web Developer, Full-Stack Web Developer, Back-End Web Developer,   Product Manager                                                                      0.000143\n",
       "Back-End Web Developer,   Front-End Web Developer,   Mobile Developer, Full-Stack Web Developer,   User Experience Designer, Game Developer,   Product Manager                                                                     0.000143\n",
       "Full-Stack Web Developer,   User Experience Designer,   Data Scientist,   Mobile Developer, Game Developer                                                                                                                         0.000143\n",
       "  DevOps / SysAdmin, Back-End Web Developer, Information Security, Data Engineer,   Product Manager, Full-Stack Web Developer                                                                                                      0.000143\n",
       "  Front-End Web Developer,   Product Manager,   Mobile Developer,   Data Scientist, Data Engineer,   User Experience Designer                                                                                                      0.000143\n",
       "lab scientist                                                                                                                                                                                                                      0.000143\n",
       "Data Engineer, Information Security,   DevOps / SysAdmin, Game Developer                                                                                                                                                           0.000143\n",
       "Back-End Web Developer, Data Engineer, Full-Stack Web Developer,   Data Scientist, Information Security,   Front-End Web Developer,   Mobile Developer                                                                             0.000143\n",
       "Name: JobRoleInterest, Length: 3213, dtype: float64"
      ]
     },
     "execution_count": 2,
     "metadata": {},
     "output_type": "execute_result"
    }
   ],
   "source": [
    "FCC_survey['JobRoleInterest'].value_counts(normalize=True)"
   ]
  },
  {
   "cell_type": "markdown",
   "metadata": {},
   "source": [
    "The table above is a bit granular but from a quick scan, we can see:\n",
    "- A lot of people are interested in Full-Stack Web Developer\n",
    "- A few people are interested in Mobile Developer\n",
    "- A few people are interested in other domains\n",
    "\n",
    "Many respondents are interested in various fields - this is a good sign for us since new coders tend to interest in different fields. It's good to know the percentage of those who are interested in only 1 subject and the others."
   ]
  },
  {
   "cell_type": "code",
   "execution_count": 3,
   "metadata": {
    "collapsed": false
   },
   "outputs": [
    {
     "data": {
      "text/plain": [
       "1     31.650458\n",
       "3     15.889588\n",
       "4     15.217391\n",
       "5     12.042334\n",
       "2     10.883867\n",
       "6      6.721968\n",
       "7      3.861556\n",
       "8      1.759153\n",
       "9      0.986842\n",
       "10     0.471968\n",
       "12     0.300343\n",
       "11     0.185927\n",
       "13     0.028604\n",
       "Name: JobRoleInterest, dtype: float64"
      ]
     },
     "execution_count": 3,
     "metadata": {},
     "output_type": "execute_result"
    }
   ],
   "source": [
    "interest_no_nulls = FCC_survey['JobRoleInterest'].dropna()\n",
    "splitted_interests = interest_no_nulls.str.split(',')\n",
    "\n",
    "n_options = splitted_interests.apply(lambda x: len(x))\n",
    "n_options.value_counts(normalize=True) * 100"
   ]
  },
  {
   "cell_type": "markdown",
   "metadata": {},
   "source": [
    "There are 31.7% people are interested in 1 field only. Since most of the courses we offer are on web and mobile development, we would like to know the portion of people who are interested in those fields. "
   ]
  },
  {
   "cell_type": "code",
   "execution_count": 4,
   "metadata": {
    "collapsed": false
   },
   "outputs": [],
   "source": [
    "mobile_web = interest_no_nulls.str.contains(\"Web Developer|Mobile Developer\")\n",
    "mobile_web = mobile_web.value_counts(normalize=True)*100"
   ]
  },
  {
   "cell_type": "code",
   "execution_count": 5,
   "metadata": {
    "collapsed": false
   },
   "outputs": [
    {
     "data": {
      "image/png": "[encoded data removed]",
      "text/plain": [
       "<matplotlib.figure.Figure at 0x7f17cad73f60>"
      ]
     },
     "metadata": {},
     "output_type": "display_data"
    }
   ],
   "source": [
    "import matplotlib.pyplot as plt\n",
    "\n",
    "%matplotlib inline \n",
    "\n",
    "\n",
    "mobile_web.plot.bar(figsize=(6,6))\n",
    "plt.style.use('fivethirtyeight')\n",
    "plt.title('Percentages of people who are interest in \\nweb or mobile development and others', y=1.08)\n",
    "plt.xticks([0,1], [\"Web or Mobile Development\", \"Others\"], rotation=0)\n",
    "plt.ylabel('Percentages')\n",
    "plt.ylim(0,100)\n",
    "\n",
    "plt.show()\n"
   ]
  },
  {
   "cell_type": "markdown",
   "metadata": {
    "collapsed": true
   },
   "source": [
    "We can see that more than 80% people are interested in either Web or Mobile Development which makes our sample representative.\n",
    "\n",
    "Now we need to verify: \n",
    "- The locations of new coders - where they actually live while we run ads\n",
    "- how much money the coders are willing to spend"
   ]
  },
  {
   "cell_type": "markdown",
   "metadata": {},
   "source": [
    "# Location and Densities"
   ]
  },
  {
   "cell_type": "markdown",
   "metadata": {},
   "source": [
    "Because the data set provides information at a country level, we can think of each country as an individual market. This means we can frame our goal as finding the two best countries to advertise in.\n",
    "\n",
    "One indicator of a good market is the number of potential customers — the more potential customers in a market, the better. If our ads manage to convince 10% of the 5000 potential customers in market A to buy our product, then this is better than convincing 100% of the 30 potential customers in market B."
   ]
  },
  {
   "cell_type": "code",
   "execution_count": 6,
   "metadata": {
    "collapsed": false
   },
   "outputs": [
    {
     "data": {
      "text/html": [
       "<div>\n",
       "<style scoped>\n",
       "    .dataframe tbody tr th:only-of-type {\n",
       "        vertical-align: middle;\n",
       "    }\n",
       "\n",
       "    .dataframe tbody tr th {\n",
       "        vertical-align: top;\n",
       "    }\n",
       "\n",
       "    .dataframe thead th {\n",
       "        text-align: right;\n",
       "    }\n",
       "</style>\n",
       "<table border=\"1\" class=\"dataframe\">\n",
       "  <thead>\n",
       "    <tr style=\"text-align: right;\">\n",
       "      <th></th>\n",
       "      <th>Absolute Frequencies</th>\n",
       "      <th>Relative Frequencies</th>\n",
       "    </tr>\n",
       "  </thead>\n",
       "  <tbody>\n",
       "    <tr>\n",
       "      <th>United States of America</th>\n",
       "      <td>3125</td>\n",
       "      <td>45.700497</td>\n",
       "    </tr>\n",
       "    <tr>\n",
       "      <th>India</th>\n",
       "      <td>528</td>\n",
       "      <td>7.721556</td>\n",
       "    </tr>\n",
       "    <tr>\n",
       "      <th>United Kingdom</th>\n",
       "      <td>315</td>\n",
       "      <td>4.606610</td>\n",
       "    </tr>\n",
       "    <tr>\n",
       "      <th>Canada</th>\n",
       "      <td>260</td>\n",
       "      <td>3.802281</td>\n",
       "    </tr>\n",
       "    <tr>\n",
       "      <th>Poland</th>\n",
       "      <td>131</td>\n",
       "      <td>1.915765</td>\n",
       "    </tr>\n",
       "    <tr>\n",
       "      <th>Brazil</th>\n",
       "      <td>129</td>\n",
       "      <td>1.886517</td>\n",
       "    </tr>\n",
       "    <tr>\n",
       "      <th>Germany</th>\n",
       "      <td>125</td>\n",
       "      <td>1.828020</td>\n",
       "    </tr>\n",
       "    <tr>\n",
       "      <th>Australia</th>\n",
       "      <td>112</td>\n",
       "      <td>1.637906</td>\n",
       "    </tr>\n",
       "    <tr>\n",
       "      <th>Russia</th>\n",
       "      <td>102</td>\n",
       "      <td>1.491664</td>\n",
       "    </tr>\n",
       "    <tr>\n",
       "      <th>Ukraine</th>\n",
       "      <td>89</td>\n",
       "      <td>1.301550</td>\n",
       "    </tr>\n",
       "  </tbody>\n",
       "</table>\n",
       "</div>"
      ],
      "text/plain": [
       "                          Absolute Frequencies  Relative Frequencies\n",
       "United States of America                  3125             45.700497\n",
       "India                                      528              7.721556\n",
       "United Kingdom                             315              4.606610\n",
       "Canada                                     260              3.802281\n",
       "Poland                                     131              1.915765\n",
       "Brazil                                     129              1.886517\n",
       "Germany                                    125              1.828020\n",
       "Australia                                  112              1.637906\n",
       "Russia                                     102              1.491664\n",
       "Ukraine                                     89              1.301550"
      ]
     },
     "execution_count": 6,
     "metadata": {},
     "output_type": "execute_result"
    }
   ],
   "source": [
    "FCC_survey = FCC_survey[FCC_survey['JobRoleInterest'].notnull()].copy()\n",
    "\n",
    "#generate both absolute and relative frequencies\n",
    "abs_freq = FCC_survey['CountryLive'].value_counts()\n",
    "rel_freq = FCC_survey['CountryLive'].value_counts(normalize=True)*100\n",
    "\n",
    "#generate the table\n",
    "frequencies = pd.DataFrame(data = {\n",
    "   'Absolute Frequencies': abs_freq,\n",
    "    'Relative Frequencies': rel_freq\n",
    "})\n",
    "\n",
    "frequencies.head(10)"
   ]
  },
  {
   "cell_type": "markdown",
   "metadata": {},
   "source": [
    "Based on the table above,it seems like the USA and India are the two best markets for advertisement - However, we need to figure out how much money people are willing to spend"
   ]
  },
  {
   "cell_type": "markdown",
   "metadata": {},
   "source": [
    "# Spending Money for Learning"
   ]
  },
  {
   "cell_type": "markdown",
   "metadata": {},
   "source": [
    "Our company sells subscriptions at a price of $59 per month, and for this reason we're interested in finding out how much money each student spends per month.\n",
    "\n",
    "It also seems like a good idea to narrow down our analysis to only four countries: the US, India, the United Kingdom, and Canada. Two reasons for this decision are:\n",
    "\n",
    "These are the countries having the highest absolute frequencies in our sample, which means we have a decent amount of data for each.\n",
    "Our courses are written in English, and English is an official language in all these four countries. The more people that know English, the better our chances to target the right people with our ads."
   ]
  },
  {
   "cell_type": "markdown",
   "metadata": {},
   "source": [
    "The MoneyForLearning column describes in American dollars the amount of money spent by participants from the moment they started coding until the moment they completed the survey. To avoid dividing by 0, replace all the values of 0 with 1."
   ]
  },
  {
   "cell_type": "code",
   "execution_count": 7,
   "metadata": {
    "collapsed": false
   },
   "outputs": [
    {
     "data": {
      "text/plain": [
       "United States of America    3125\n",
       "India                        528\n",
       "United Kingdom               315\n",
       "Canada                       260\n",
       "Name: CountryLive, dtype: int64"
      ]
     },
     "execution_count": 7,
     "metadata": {},
     "output_type": "execute_result"
    }
   ],
   "source": [
    "import numpy as np\n",
    "FCC_survey['MonthsProgramming'].replace(0,1,inplace=True)\n",
    "FCC_survey['money_per_month'] = FCC_survey['MoneyForLearning'].astype(float) / FCC_survey['MonthsProgramming'].astype(float)\n",
    "FCC_survey['money_per_month'].replace(np.inf, np.nan, inplace=True)\n",
    "\n",
    "FCC_survey['money_per_month'].isnull().sum()\n",
    "FCC_survey['CountryLive'].value_counts().head(4)"
   ]
  },
  {
   "cell_type": "code",
   "execution_count": 8,
   "metadata": {
    "collapsed": false
   },
   "outputs": [
    {
     "data": {
      "text/plain": [
       "United States of America    2810\n",
       "India                        454\n",
       "United Kingdom               270\n",
       "Canada                       235\n",
       "Name: CountryLive, dtype: int64"
      ]
     },
     "execution_count": 8,
     "metadata": {},
     "output_type": "execute_result"
    }
   ],
   "source": [
    "FCC_survey = FCC_survey[FCC_survey['money_per_month'].notnull()]\n",
    "FCC_survey = FCC_survey[FCC_survey['CountryLive'].notnull()]\n",
    "\n",
    "FCC_survey['CountryLive'].value_counts().head(4)\n"
   ]
  },
  {
   "cell_type": "code",
   "execution_count": 9,
   "metadata": {
    "collapsed": false
   },
   "outputs": [
    {
     "data": {
      "text/plain": [
       "CountryLive\n",
       "United States of America    232.771574\n",
       "United Kingdom               46.904110\n",
       "Canada                      107.415450\n",
       "India                       136.347477\n",
       "Name: money_per_month, dtype: float64"
      ]
     },
     "execution_count": 9,
     "metadata": {},
     "output_type": "execute_result"
    }
   ],
   "source": [
    "FCC_per_country = FCC_survey.groupby('CountryLive').mean()\n",
    "FCC_per_country['money_per_month'][['United States of America', \n",
    "                                    'United Kingdom', 'Canada', 'India']]"
   ]
  },
  {
   "cell_type": "markdown",
   "metadata": {
    "collapsed": true
   },
   "source": [
    "As per Location and Money Spending, the U.S and India are the 2 best markets that we should consider investing. However, this is suprising if  we considered a few socio-economical metrics (like GDP per capita), we'd intuitively expect people in the UK and Canada to spend more on learning than people in India.\n",
    "\n",
    "It might be that we don't have have enough representative data for the United Kingdom, Canada, and India, or we have some outliers (maybe coming from wrong survey answers) making the mean too big for India, or too low for the UK and Canada. Or it might be that the results are correct."
   ]
  },
  {
   "cell_type": "markdown",
   "metadata": {},
   "source": [
    "# Dealing with Extreme Outliers"
   ]
  },
  {
   "cell_type": "code",
   "execution_count": 10,
   "metadata": {
    "collapsed": false
   },
   "outputs": [
    {
     "name": "stderr",
     "output_type": "stream",
     "text": [
      "/dataquest/system/env/python3/lib/python3.4/site-packages/seaborn/categorical.py:454: FutureWarning:\n",
      "\n",
      "remove_na is deprecated and is a private function. Do not use.\n",
      "\n",
      "/dataquest/system/env/python3/lib/python3.4/site-packages/matplotlib/axes/_axes.py:519: UserWarning:\n",
      "\n",
      "No labelled objects found. Use label='...' kwarg on individual plots.\n",
      "\n"
     ]
    },
    {
     "data": {
      "image/png": "[encoded data removed]",
      "text/plain": [
       "<matplotlib.figure.Figure at 0x7f17cac1fbe0>"
      ]
     },
     "metadata": {},
     "output_type": "display_data"
    }
   ],
   "source": [
    "import seaborn as sns\n",
    "\n",
    "only_4 = FCC_survey[FCC_survey['CountryLive'].str.contains('United States of America|United Kingdom|Canada|India')].copy()\n",
    "sns.boxplot(x='CountryLive', y='money_per_month', data=only_4)\n",
    "plt.title('Money Spending per Month per Country', fontsize=16)\n",
    "plt.ylabel(\"Money per Month(USD Dollars)\")\n",
    "plt.xlabel(\"Countries\")\n",
    "plt.legend()\n",
    "\n",
    "plt.show()"
   ]
  },
  {
   "cell_type": "markdown",
   "metadata": {
    "collapsed": true
   },
   "source": [
    "It's hard to see anything wrong for UK, India, Canada but the data in the U.S is unusual - we will eliminate the data which have more than 20K USD per month as it's a bit strange to spend 50K or 80K for online courses"
   ]
  },
  {
   "cell_type": "code",
   "execution_count": 11,
   "metadata": {
    "collapsed": false
   },
   "outputs": [],
   "source": [
    "FCC_survey = FCC_survey[FCC_survey[\"money_per_month\"] <= 20000]"
   ]
  },
  {
   "cell_type": "code",
   "execution_count": 12,
   "metadata": {
    "collapsed": false
   },
   "outputs": [
    {
     "data": {
      "text/plain": [
       "CountryLive\n",
       "United States of America    186.641069\n",
       "United Kingdom               46.904110\n",
       "Canada                      107.415450\n",
       "India                       136.347477\n",
       "Name: money_per_month, dtype: float64"
      ]
     },
     "execution_count": 12,
     "metadata": {},
     "output_type": "execute_result"
    }
   ],
   "source": [
    "countries_mean = FCC_survey.groupby(\"CountryLive\").mean()\n",
    "countries_mean[\"money_per_month\"][['United States of America', \n",
    "                                    'United Kingdom', 'Canada', 'India']]"
   ]
  },
  {
   "cell_type": "code",
   "execution_count": 15,
   "metadata": {
    "collapsed": false
   },
   "outputs": [
    {
     "name": "stderr",
     "output_type": "stream",
     "text": [
      "/dataquest/system/env/python3/lib/python3.4/site-packages/seaborn/categorical.py:454: FutureWarning:\n",
      "\n",
      "remove_na is deprecated and is a private function. Do not use.\n",
      "\n",
      "/dataquest/system/env/python3/lib/python3.4/site-packages/matplotlib/axes/_axes.py:519: UserWarning:\n",
      "\n",
      "No labelled objects found. Use label='...' kwarg on individual plots.\n",
      "\n"
     ]
    },
    {
     "data": {
      "image/png": "[encoded data removed]",
      "text/plain": [
       "<matplotlib.figure.Figure at 0x7f17c218deb8>"
      ]
     },
     "metadata": {},
     "output_type": "display_data"
    }
   ],
   "source": [
    "only_4 = FCC_survey[FCC_survey[\"CountryLive\"].str.contains(\"United States of America|United Kingdom|Canada|India\")]\n",
    "\n",
    "sns.boxplot(x='CountryLive', y='money_per_month', data=only_4)\n",
    "plt.title('Money Spending per Month per Country', fontsize=16)\n",
    "plt.ylabel(\"Money per Month(USD Dollars)\")\n",
    "plt.xlabel(\"Countries\")\n",
    "plt.legend()\n",
    "\n",
    "plt.show()"
   ]
  },
  {
   "cell_type": "code",
   "execution_count": 23,
   "metadata": {
    "collapsed": false
   },
   "outputs": [],
   "source": [
    "India_outliers = only_4[(only_4[\"CountryLive\"]== \"India\") & (only_4[\"money_per_month\"]>=2500)]\n",
    "only_4 = only_4.drop(India_outliers.index)"
   ]
  },
  {
   "cell_type": "code",
   "execution_count": 26,
   "metadata": {
    "collapsed": false
   },
   "outputs": [
    {
     "data": {
      "text/html": [
       "<div>\n",
       "<style scoped>\n",
       "    .dataframe tbody tr th:only-of-type {\n",
       "        vertical-align: middle;\n",
       "    }\n",
       "\n",
       "    .dataframe tbody tr th {\n",
       "        vertical-align: top;\n",
       "    }\n",
       "\n",
       "    .dataframe thead th {\n",
       "        text-align: right;\n",
       "    }\n",
       "</style>\n",
       "<table border=\"1\" class=\"dataframe\">\n",
       "  <thead>\n",
       "    <tr style=\"text-align: right;\">\n",
       "      <th></th>\n",
       "      <th>Age</th>\n",
       "      <th>AttendedBootcamp</th>\n",
       "      <th>BootcampFinish</th>\n",
       "      <th>BootcampLoanYesNo</th>\n",
       "      <th>BootcampName</th>\n",
       "      <th>BootcampRecommend</th>\n",
       "      <th>ChildrenNumber</th>\n",
       "      <th>CityPopulation</th>\n",
       "      <th>CodeEventConferences</th>\n",
       "      <th>CodeEventDjangoGirls</th>\n",
       "      <th>...</th>\n",
       "      <th>YouTubeFunFunFunction</th>\n",
       "      <th>YouTubeGoogleDev</th>\n",
       "      <th>YouTubeLearnCode</th>\n",
       "      <th>YouTubeLevelUpTuts</th>\n",
       "      <th>YouTubeMIT</th>\n",
       "      <th>YouTubeMozillaHacks</th>\n",
       "      <th>YouTubeOther</th>\n",
       "      <th>YouTubeSimplilearn</th>\n",
       "      <th>YouTubeTheNewBoston</th>\n",
       "      <th>money_per_month</th>\n",
       "    </tr>\n",
       "  </thead>\n",
       "  <tbody>\n",
       "    <tr>\n",
       "      <th>718</th>\n",
       "      <td>26</td>\n",
       "      <td>1</td>\n",
       "      <td>0</td>\n",
       "      <td>0</td>\n",
       "      <td>The Coding Boot Camp at UCLA Extension</td>\n",
       "      <td>1</td>\n",
       "      <td>NaN</td>\n",
       "      <td>more than 1 million</td>\n",
       "      <td>1</td>\n",
       "      <td>NaN</td>\n",
       "      <td>...</td>\n",
       "      <td>NaN</td>\n",
       "      <td>NaN</td>\n",
       "      <td>NaN</td>\n",
       "      <td>NaN</td>\n",
       "      <td>NaN</td>\n",
       "      <td>NaN</td>\n",
       "      <td>NaN</td>\n",
       "      <td>NaN</td>\n",
       "      <td>NaN</td>\n",
       "      <td>8000.000000</td>\n",
       "    </tr>\n",
       "    <tr>\n",
       "      <th>3930</th>\n",
       "      <td>31</td>\n",
       "      <td>0</td>\n",
       "      <td>NaN</td>\n",
       "      <td>NaN</td>\n",
       "      <td>NaN</td>\n",
       "      <td>NaN</td>\n",
       "      <td>NaN</td>\n",
       "      <td>between 100,000 and 1 million</td>\n",
       "      <td>NaN</td>\n",
       "      <td>NaN</td>\n",
       "      <td>...</td>\n",
       "      <td>1</td>\n",
       "      <td>1</td>\n",
       "      <td>1</td>\n",
       "      <td>1</td>\n",
       "      <td>1</td>\n",
       "      <td>NaN</td>\n",
       "      <td>various conf presentations</td>\n",
       "      <td>NaN</td>\n",
       "      <td>NaN</td>\n",
       "      <td>10833.333333</td>\n",
       "    </tr>\n",
       "    <tr>\n",
       "      <th>6805</th>\n",
       "      <td>46</td>\n",
       "      <td>1</td>\n",
       "      <td>1</td>\n",
       "      <td>1</td>\n",
       "      <td>Sabio.la</td>\n",
       "      <td>0</td>\n",
       "      <td>NaN</td>\n",
       "      <td>between 100,000 and 1 million</td>\n",
       "      <td>NaN</td>\n",
       "      <td>NaN</td>\n",
       "      <td>...</td>\n",
       "      <td>NaN</td>\n",
       "      <td>NaN</td>\n",
       "      <td>NaN</td>\n",
       "      <td>NaN</td>\n",
       "      <td>NaN</td>\n",
       "      <td>NaN</td>\n",
       "      <td>NaN</td>\n",
       "      <td>NaN</td>\n",
       "      <td>NaN</td>\n",
       "      <td>15000.000000</td>\n",
       "    </tr>\n",
       "    <tr>\n",
       "      <th>7198</th>\n",
       "      <td>32</td>\n",
       "      <td>0</td>\n",
       "      <td>NaN</td>\n",
       "      <td>NaN</td>\n",
       "      <td>NaN</td>\n",
       "      <td>NaN</td>\n",
       "      <td>NaN</td>\n",
       "      <td>more than 1 million</td>\n",
       "      <td>1</td>\n",
       "      <td>NaN</td>\n",
       "      <td>...</td>\n",
       "      <td>NaN</td>\n",
       "      <td>1</td>\n",
       "      <td>1</td>\n",
       "      <td>1</td>\n",
       "      <td>NaN</td>\n",
       "      <td>NaN</td>\n",
       "      <td>NaN</td>\n",
       "      <td>NaN</td>\n",
       "      <td>NaN</td>\n",
       "      <td>14000.000000</td>\n",
       "    </tr>\n",
       "    <tr>\n",
       "      <th>7505</th>\n",
       "      <td>26</td>\n",
       "      <td>1</td>\n",
       "      <td>0</td>\n",
       "      <td>1</td>\n",
       "      <td>Codeup</td>\n",
       "      <td>0</td>\n",
       "      <td>NaN</td>\n",
       "      <td>more than 1 million</td>\n",
       "      <td>NaN</td>\n",
       "      <td>NaN</td>\n",
       "      <td>...</td>\n",
       "      <td>NaN</td>\n",
       "      <td>NaN</td>\n",
       "      <td>NaN</td>\n",
       "      <td>NaN</td>\n",
       "      <td>1</td>\n",
       "      <td>NaN</td>\n",
       "      <td>NaN</td>\n",
       "      <td>NaN</td>\n",
       "      <td>NaN</td>\n",
       "      <td>6666.666667</td>\n",
       "    </tr>\n",
       "    <tr>\n",
       "      <th>9778</th>\n",
       "      <td>33</td>\n",
       "      <td>1</td>\n",
       "      <td>0</td>\n",
       "      <td>1</td>\n",
       "      <td>Grand Circus</td>\n",
       "      <td>1</td>\n",
       "      <td>NaN</td>\n",
       "      <td>between 100,000 and 1 million</td>\n",
       "      <td>NaN</td>\n",
       "      <td>NaN</td>\n",
       "      <td>...</td>\n",
       "      <td>NaN</td>\n",
       "      <td>NaN</td>\n",
       "      <td>NaN</td>\n",
       "      <td>NaN</td>\n",
       "      <td>NaN</td>\n",
       "      <td>NaN</td>\n",
       "      <td>NaN</td>\n",
       "      <td>NaN</td>\n",
       "      <td>NaN</td>\n",
       "      <td>8000.000000</td>\n",
       "    </tr>\n",
       "    <tr>\n",
       "      <th>16650</th>\n",
       "      <td>29</td>\n",
       "      <td>0</td>\n",
       "      <td>NaN</td>\n",
       "      <td>NaN</td>\n",
       "      <td>NaN</td>\n",
       "      <td>NaN</td>\n",
       "      <td>2</td>\n",
       "      <td>more than 1 million</td>\n",
       "      <td>NaN</td>\n",
       "      <td>NaN</td>\n",
       "      <td>...</td>\n",
       "      <td>NaN</td>\n",
       "      <td>NaN</td>\n",
       "      <td>NaN</td>\n",
       "      <td>NaN</td>\n",
       "      <td>NaN</td>\n",
       "      <td>NaN</td>\n",
       "      <td>NaN</td>\n",
       "      <td>NaN</td>\n",
       "      <td>1</td>\n",
       "      <td>16666.666667</td>\n",
       "    </tr>\n",
       "    <tr>\n",
       "      <th>16997</th>\n",
       "      <td>27</td>\n",
       "      <td>0</td>\n",
       "      <td>NaN</td>\n",
       "      <td>NaN</td>\n",
       "      <td>NaN</td>\n",
       "      <td>NaN</td>\n",
       "      <td>1</td>\n",
       "      <td>more than 1 million</td>\n",
       "      <td>NaN</td>\n",
       "      <td>NaN</td>\n",
       "      <td>...</td>\n",
       "      <td>NaN</td>\n",
       "      <td>NaN</td>\n",
       "      <td>NaN</td>\n",
       "      <td>NaN</td>\n",
       "      <td>NaN</td>\n",
       "      <td>NaN</td>\n",
       "      <td>NaN</td>\n",
       "      <td>NaN</td>\n",
       "      <td>NaN</td>\n",
       "      <td>12500.000000</td>\n",
       "    </tr>\n",
       "    <tr>\n",
       "      <th>17231</th>\n",
       "      <td>50</td>\n",
       "      <td>0</td>\n",
       "      <td>NaN</td>\n",
       "      <td>NaN</td>\n",
       "      <td>NaN</td>\n",
       "      <td>NaN</td>\n",
       "      <td>2</td>\n",
       "      <td>less than 100,000</td>\n",
       "      <td>NaN</td>\n",
       "      <td>NaN</td>\n",
       "      <td>...</td>\n",
       "      <td>NaN</td>\n",
       "      <td>NaN</td>\n",
       "      <td>NaN</td>\n",
       "      <td>NaN</td>\n",
       "      <td>NaN</td>\n",
       "      <td>NaN</td>\n",
       "      <td>NaN</td>\n",
       "      <td>NaN</td>\n",
       "      <td>NaN</td>\n",
       "      <td>15000.000000</td>\n",
       "    </tr>\n",
       "  </tbody>\n",
       "</table>\n",
       "<p>9 rows × 137 columns</p>\n",
       "</div>"
      ],
      "text/plain": [
       "      Age AttendedBootcamp BootcampFinish BootcampLoanYesNo  \\\n",
       "718    26                1              0                 0   \n",
       "3930   31                0            NaN               NaN   \n",
       "6805   46                1              1                 1   \n",
       "7198   32                0            NaN               NaN   \n",
       "7505   26                1              0                 1   \n",
       "9778   33                1              0                 1   \n",
       "16650  29                0            NaN               NaN   \n",
       "16997  27                0            NaN               NaN   \n",
       "17231  50                0            NaN               NaN   \n",
       "\n",
       "                                 BootcampName BootcampRecommend  \\\n",
       "718    The Coding Boot Camp at UCLA Extension                 1   \n",
       "3930                                      NaN               NaN   \n",
       "6805                                 Sabio.la                 0   \n",
       "7198                                      NaN               NaN   \n",
       "7505                                   Codeup                 0   \n",
       "9778                             Grand Circus                 1   \n",
       "16650                                     NaN               NaN   \n",
       "16997                                     NaN               NaN   \n",
       "17231                                     NaN               NaN   \n",
       "\n",
       "      ChildrenNumber                 CityPopulation CodeEventConferences  \\\n",
       "718              NaN            more than 1 million                    1   \n",
       "3930             NaN  between 100,000 and 1 million                  NaN   \n",
       "6805             NaN  between 100,000 and 1 million                  NaN   \n",
       "7198             NaN            more than 1 million                    1   \n",
       "7505             NaN            more than 1 million                  NaN   \n",
       "9778             NaN  between 100,000 and 1 million                  NaN   \n",
       "16650              2            more than 1 million                  NaN   \n",
       "16997              1            more than 1 million                  NaN   \n",
       "17231              2              less than 100,000                  NaN   \n",
       "\n",
       "      CodeEventDjangoGirls       ...       YouTubeFunFunFunction  \\\n",
       "718                    NaN       ...                         NaN   \n",
       "3930                   NaN       ...                           1   \n",
       "6805                   NaN       ...                         NaN   \n",
       "7198                   NaN       ...                         NaN   \n",
       "7505                   NaN       ...                         NaN   \n",
       "9778                   NaN       ...                         NaN   \n",
       "16650                  NaN       ...                         NaN   \n",
       "16997                  NaN       ...                         NaN   \n",
       "17231                  NaN       ...                         NaN   \n",
       "\n",
       "      YouTubeGoogleDev YouTubeLearnCode YouTubeLevelUpTuts YouTubeMIT  \\\n",
       "718                NaN              NaN                NaN        NaN   \n",
       "3930                 1                1                  1          1   \n",
       "6805               NaN              NaN                NaN        NaN   \n",
       "7198                 1                1                  1        NaN   \n",
       "7505               NaN              NaN                NaN          1   \n",
       "9778               NaN              NaN                NaN        NaN   \n",
       "16650              NaN              NaN                NaN        NaN   \n",
       "16997              NaN              NaN                NaN        NaN   \n",
       "17231              NaN              NaN                NaN        NaN   \n",
       "\n",
       "      YouTubeMozillaHacks                YouTubeOther YouTubeSimplilearn  \\\n",
       "718                   NaN                         NaN                NaN   \n",
       "3930                  NaN  various conf presentations                NaN   \n",
       "6805                  NaN                         NaN                NaN   \n",
       "7198                  NaN                         NaN                NaN   \n",
       "7505                  NaN                         NaN                NaN   \n",
       "9778                  NaN                         NaN                NaN   \n",
       "16650                 NaN                         NaN                NaN   \n",
       "16997                 NaN                         NaN                NaN   \n",
       "17231                 NaN                         NaN                NaN   \n",
       "\n",
       "      YouTubeTheNewBoston money_per_month  \n",
       "718                   NaN     8000.000000  \n",
       "3930                  NaN    10833.333333  \n",
       "6805                  NaN    15000.000000  \n",
       "7198                  NaN    14000.000000  \n",
       "7505                  NaN     6666.666667  \n",
       "9778                  NaN     8000.000000  \n",
       "16650                   1    16666.666667  \n",
       "16997                 NaN    12500.000000  \n",
       "17231                 NaN    15000.000000  \n",
       "\n",
       "[9 rows x 137 columns]"
      ]
     },
     "execution_count": 26,
     "metadata": {},
     "output_type": "execute_result"
    }
   ],
   "source": [
    "usa_outliers = only_4[(only_4[\"CountryLive\"]==\"United States of America\") & (only_4[\"money_per_month\"]>6500)]\n",
    "usa_outliers"
   ]
  },
  {
   "cell_type": "markdown",
   "metadata": {},
   "source": [
    "The outliers in the USA has already attended 1 bootcamp so they won't be our target as we try to aim for new coders"
   ]
  },
  {
   "cell_type": "code",
   "execution_count": 27,
   "metadata": {
    "collapsed": false
   },
   "outputs": [
    {
     "data": {
      "text/html": [
       "<div>\n",
       "<style scoped>\n",
       "    .dataframe tbody tr th:only-of-type {\n",
       "        vertical-align: middle;\n",
       "    }\n",
       "\n",
       "    .dataframe tbody tr th {\n",
       "        vertical-align: top;\n",
       "    }\n",
       "\n",
       "    .dataframe thead th {\n",
       "        text-align: right;\n",
       "    }\n",
       "</style>\n",
       "<table border=\"1\" class=\"dataframe\">\n",
       "  <thead>\n",
       "    <tr style=\"text-align: right;\">\n",
       "      <th></th>\n",
       "      <th>Age</th>\n",
       "      <th>AttendedBootcamp</th>\n",
       "      <th>BootcampFinish</th>\n",
       "      <th>BootcampLoanYesNo</th>\n",
       "      <th>BootcampName</th>\n",
       "      <th>BootcampRecommend</th>\n",
       "      <th>ChildrenNumber</th>\n",
       "      <th>CityPopulation</th>\n",
       "      <th>CodeEventConferences</th>\n",
       "      <th>CodeEventDjangoGirls</th>\n",
       "      <th>...</th>\n",
       "      <th>YouTubeFunFunFunction</th>\n",
       "      <th>YouTubeGoogleDev</th>\n",
       "      <th>YouTubeLearnCode</th>\n",
       "      <th>YouTubeLevelUpTuts</th>\n",
       "      <th>YouTubeMIT</th>\n",
       "      <th>YouTubeMozillaHacks</th>\n",
       "      <th>YouTubeOther</th>\n",
       "      <th>YouTubeSimplilearn</th>\n",
       "      <th>YouTubeTheNewBoston</th>\n",
       "      <th>money_per_month</th>\n",
       "    </tr>\n",
       "  </thead>\n",
       "  <tbody>\n",
       "    <tr>\n",
       "      <th>13659</th>\n",
       "      <td>24</td>\n",
       "      <td>1</td>\n",
       "      <td>0</td>\n",
       "      <td>0</td>\n",
       "      <td>Bloc.io</td>\n",
       "      <td>1</td>\n",
       "      <td>NaN</td>\n",
       "      <td>more than 1 million</td>\n",
       "      <td>1</td>\n",
       "      <td>NaN</td>\n",
       "      <td>...</td>\n",
       "      <td>NaN</td>\n",
       "      <td>NaN</td>\n",
       "      <td>NaN</td>\n",
       "      <td>NaN</td>\n",
       "      <td>1</td>\n",
       "      <td>NaN</td>\n",
       "      <td>NaN</td>\n",
       "      <td>NaN</td>\n",
       "      <td>NaN</td>\n",
       "      <td>5000.0</td>\n",
       "    </tr>\n",
       "  </tbody>\n",
       "</table>\n",
       "<p>1 rows × 137 columns</p>\n",
       "</div>"
      ],
      "text/plain": [
       "      Age AttendedBootcamp BootcampFinish BootcampLoanYesNo BootcampName  \\\n",
       "13659  24                1              0                 0      Bloc.io   \n",
       "\n",
       "      BootcampRecommend ChildrenNumber       CityPopulation  \\\n",
       "13659                 1            NaN  more than 1 million   \n",
       "\n",
       "      CodeEventConferences CodeEventDjangoGirls       ...        \\\n",
       "13659                    1                  NaN       ...         \n",
       "\n",
       "      YouTubeFunFunFunction YouTubeGoogleDev YouTubeLearnCode  \\\n",
       "13659                   NaN              NaN              NaN   \n",
       "\n",
       "      YouTubeLevelUpTuts YouTubeMIT YouTubeMozillaHacks YouTubeOther  \\\n",
       "13659                NaN          1                 NaN          NaN   \n",
       "\n",
       "      YouTubeSimplilearn YouTubeTheNewBoston money_per_month  \n",
       "13659                NaN                 NaN          5000.0  \n",
       "\n",
       "[1 rows x 137 columns]"
      ]
     },
     "execution_count": 27,
     "metadata": {},
     "output_type": "execute_result"
    }
   ],
   "source": [
    "only_4 = only_4.drop(usa_outliers.index)\n",
    "canada_outliers = only_4[(only_4[\"CountryLive\"]==\"Canada\") & (only_4[\"money_per_month\"]>=2500)]\n",
    "canada_outliers"
   ]
  },
  {
   "cell_type": "markdown",
   "metadata": {},
   "source": [
    "We will also remove the canada outlier as this person has already attended 1 bootcamp"
   ]
  },
  {
   "cell_type": "code",
   "execution_count": 28,
   "metadata": {
    "collapsed": false
   },
   "outputs": [
    {
     "name": "stderr",
     "output_type": "stream",
     "text": [
      "/dataquest/system/env/python3/lib/python3.4/site-packages/seaborn/categorical.py:454: FutureWarning:\n",
      "\n",
      "remove_na is deprecated and is a private function. Do not use.\n",
      "\n",
      "/dataquest/system/env/python3/lib/python3.4/site-packages/matplotlib/axes/_axes.py:519: UserWarning:\n",
      "\n",
      "No labelled objects found. Use label='...' kwarg on individual plots.\n",
      "\n"
     ]
    },
    {
     "data": {
      "image/png": "[encoded data removed]",
      "text/plain": [
       "<matplotlib.figure.Figure at 0x7f17c2050b70>"
      ]
     },
     "metadata": {},
     "output_type": "display_data"
    }
   ],
   "source": [
    "only_4 = only_4.drop(canada_outliers.index)\n",
    "\n",
    "sns.boxplot(x='CountryLive', y='money_per_month', data=only_4)\n",
    "plt.title('Money Spending per Month per Country', fontsize=16)\n",
    "plt.ylabel(\"Money per Month(USD Dollars)\")\n",
    "plt.xlabel(\"Countries\")\n",
    "plt.legend()\n",
    "\n",
    "plt.show()"
   ]
  },
  {
   "cell_type": "code",
   "execution_count": 29,
   "metadata": {
    "collapsed": false
   },
   "outputs": [
    {
     "data": {
      "text/plain": [
       "CountryLive\n",
       "United States of America    149.132353\n",
       "United Kingdom               46.904110\n",
       "Canada                       86.506969\n",
       "India                        65.628917\n",
       "Name: money_per_month, dtype: float64"
      ]
     },
     "execution_count": 29,
     "metadata": {},
     "output_type": "execute_result"
    }
   ],
   "source": [
    "countries_mean = only_4.groupby(\"CountryLive\").mean()\n",
    "countries_mean[\"money_per_month\"][['United States of America', \n",
    "                                    'United Kingdom', 'Canada', 'India']]"
   ]
  },
  {
   "cell_type": "markdown",
   "metadata": {},
   "source": [
    "# Choosing the Two Best Markets"
   ]
  },
  {
   "cell_type": "markdown",
   "metadata": {},
   "source": [
    "Based on the numbers above, Canada seems to be the 2nd best market - however, we need to double check how big that market is in our data"
   ]
  },
  {
   "cell_type": "code",
   "execution_count": 30,
   "metadata": {
    "collapsed": false
   },
   "outputs": [
    {
     "data": {
      "text/plain": [
       "United States of America    74.620101\n",
       "India                       11.943482\n",
       "United Kingdom               7.198081\n",
       "Canada                       6.238336\n",
       "Name: CountryLive, dtype: float64"
      ]
     },
     "execution_count": 30,
     "metadata": {},
     "output_type": "execute_result"
    }
   ],
   "source": [
    "only_4[\"CountryLive\"].value_counts(normalize=True) * 100"
   ]
  },
  {
   "cell_type": "markdown",
   "metadata": {},
   "source": [
    "India potential customers are double than its in Canada and because we sells subscriptions at a price of \\$59 per month - that's not an expensive amount in India since they spend in average \\$65.62 per month\n",
    "Until this point, there are coupple strategies we can try. We can split our investment in 3 countries unequally:\n",
    "- 50% in the U.S, 30% in India and 20% in Canada\n",
    "- 65% in the U.S, 20% in Canada and 15% in India\n",
    "\n",
    "Or we can invest the amount in 2 countries only - either US and India or either US and Canada. And again, the split will be unequal. For example:\n",
    "- 80% in the U.S and 20% in Canada \n",
    "- 70% in the U.S and 30% in India\n",
    "\n",
    "Or we can invest in the U.S only\n",
    "\n",
    "Until this point, it is unclear whether we should invest in Canada or India or both - we need to send our analysis to the marketing team to let them decide"
   ]
  },
  {
   "cell_type": "markdown",
   "metadata": {},
   "source": [
    "# Conclusion "
   ]
  },
  {
   "cell_type": "markdown",
   "metadata": {},
   "source": [
    "In this project, we analyzed survey data from new coders to find the best two markets to advertise in. The only solid conclusion we reached is that the US would be a good market to advertise in.\n",
    "\n",
    "For the second best market, it wasn't clear-cut what to choose between India and Canada. We decided to send the results to the marketing team so they can use their domain knowledge to take the best decision."
   ]
  }
 ],
 "metadata": {
  "kernelspec": {
   "display_name": "Python 3",
   "language": "python",
   "name": "python3"
  },
  "language_info": {
   "codemirror_mode": {
    "name": "ipython",
    "version": 3
   },
   "file_extension": ".py",
   "mimetype": "text/x-python",
   "name": "python",
   "nbconvert_exporter": "python",
   "pygments_lexer": "ipython3",
   "version": "3.4.3"
  }
 },
 "nbformat": 4,
 "nbformat_minor": 2
}
